{
 "cells": [
  {
   "cell_type": "markdown",
   "metadata": {},
   "source": [
    "# Eval performance of pre-trained LLMs"
   ]
  },
  {
   "cell_type": "code",
   "execution_count": 1,
   "metadata": {},
   "outputs": [],
   "source": [
    "import sys, os\n",
    "sys.path.append(os.path.abspath(\"../\"))"
   ]
  },
  {
   "cell_type": "code",
   "execution_count": 35,
   "metadata": {},
   "outputs": [],
   "source": [
    "import importlib\n",
    "import load_llm.load_llm\n",
    "import eval_llm.eval_perplexity\n",
    "importlib.reload(load_llm.load_llm)\n",
    "importlib.reload(eval_llm.eval_perplexity)\n",
    "\n",
    "from load_llm.load_llm import LLMPretrained, LLMWrapper\n",
    "import pandas as pd\n",
    "import time\n",
    "from tqdm import tqdm\n",
    "import seaborn as sns\n",
    "from eval_llm.eval_perplexity import eval_perplexity\n",
    "from datasets import load_dataset"
   ]
  },
  {
   "cell_type": "code",
   "execution_count": 9,
   "metadata": {},
   "outputs": [
    {
     "data": {
      "text/plain": [
       "[<LLMPretrained.GPT2_SMALL: 'distilgpt2'>,\n",
       " <LLMPretrained.GPT2_BASE: 'gpt2'>,\n",
       " <LLMPretrained.GPT2_MEDIUM: 'gpt2-medium'>,\n",
       " <LLMPretrained.GPT2_LARGE: 'gpt2-large'>,\n",
       " <LLMPretrained.GPT_NEO_SMALL: 'EleutherAI/gpt-neo-125M'>,\n",
       " <LLMPretrained.GPT_NEO_LARGE: 'EleutherAI/gpt-neo-1.3B'>,\n",
       " <LLMPretrained.FLAN_SMALL: 'google/flan-t5-small'>,\n",
       " <LLMPretrained.FLAN_BASE: 'google/flan-t5-base'>]"
      ]
     },
     "execution_count": 9,
     "metadata": {},
     "output_type": "execute_result"
    }
   ],
   "source": [
    "llm_pretraineds = [llm_pre for llm_pre in LLMPretrained if llm_pre != LLMPretrained.GPT2_XL]\n",
    "llm_pretraineds"
   ]
  },
  {
   "cell_type": "markdown",
   "metadata": {},
   "source": [
    "### Eval time performance for generation task"
   ]
  },
  {
   "cell_type": "code",
   "execution_count": 5,
   "metadata": {},
   "outputs": [],
   "source": [
    "def time_generation(model : LLMWrapper, prompt : str, text_length : int) -> float:\n",
    "    start = time.time()\n",
    "    model.generate_text(prompt, max_length=text_length, verbose=False)\n",
    "    return time.time() - start"
   ]
  },
  {
   "cell_type": "code",
   "execution_count": 44,
   "metadata": {},
   "outputs": [
    {
     "name": "stdout",
     "output_type": "stream",
     "text": [
      "Begin\n"
     ]
    },
    {
     "name": "stderr",
     "output_type": "stream",
     "text": [
      "\n",
      "\n",
      "\n",
      "\n",
      "\u001b[A\u001b[A\u001b[A\u001b[A\n",
      "\n",
      "\n",
      "\n",
      "\n",
      "\u001b[A\u001b[A\u001b[A\u001b[A\u001b[A\n",
      "\n",
      "\n",
      "\n",
      "\n",
      "\u001b[A\u001b[A\u001b[A\u001b[A\u001b[A\n",
      "\n",
      "\n",
      "\n",
      "\n",
      "\u001b[A\u001b[A\u001b[A\u001b[A\u001b[A\n",
      "\n",
      "\n",
      "\n",
      "\n",
      "\u001b[A\u001b[A\u001b[A\u001b[A\u001b[A\n",
      "\n",
      "\n",
      "\n",
      "\n",
      "Generated length size: 100%|██████████| 4/4 [00:07<00:00,  1.93s/it]\n",
      "\n",
      "\n",
      "\n",
      "\n",
      "\u001b[A\u001b[A\u001b[A\u001b[A\n",
      "\n",
      "\n",
      "\n",
      "\n",
      "\u001b[A\u001b[A\u001b[A\u001b[A\u001b[A\n",
      "\n",
      "\n",
      "\n",
      "\n",
      "\u001b[A\u001b[A\u001b[A\u001b[A\u001b[A\n",
      "\n",
      "\n",
      "\n",
      "\n",
      "\u001b[A\u001b[A\u001b[A\u001b[A\u001b[A\n",
      "\n",
      "\n",
      "\n",
      "\n",
      "\u001b[A\u001b[A\u001b[A\u001b[A\u001b[A\n",
      "\n",
      "\n",
      "\n",
      "\n",
      "Generated length size: 100%|██████████| 4/4 [00:10<00:00,  2.55s/it]\n",
      "\n",
      "\n",
      "\n",
      "\n",
      "\u001b[A\u001b[A\u001b[A\u001b[A\n",
      "\n",
      "\n",
      "\n",
      "\n",
      "\u001b[A\u001b[A\u001b[A\u001b[A\u001b[A\n",
      "\n",
      "\n",
      "\n",
      "\n",
      "\u001b[A\u001b[A\u001b[A\u001b[A\u001b[A\n",
      "\n",
      "\n",
      "\n",
      "\n",
      "\u001b[A\u001b[A\u001b[A\u001b[A\u001b[A\n",
      "\n",
      "\n",
      "\n",
      "\n",
      "\u001b[A\u001b[A\u001b[A\u001b[A\u001b[A\n",
      "\n",
      "\n",
      "\n",
      "\n",
      "Generated length size: 100%|██████████| 4/4 [00:21<00:00,  5.35s/it]\n",
      "\n",
      "\n",
      "\n",
      "\n",
      "\u001b[A\u001b[A\u001b[A\u001b[A\n",
      "\n",
      "\n",
      "\n",
      "\n",
      "\u001b[A\u001b[A\u001b[A\u001b[A\u001b[A\n",
      "\n",
      "\n",
      "\n",
      "\n",
      "\u001b[A\u001b[A\u001b[A\u001b[A\u001b[A\n",
      "\n",
      "\n",
      "\n",
      "\n",
      "\u001b[A\u001b[A\u001b[A\u001b[A\u001b[A\n",
      "\n",
      "\n",
      "\n",
      "\n",
      "\u001b[A\u001b[A\u001b[A\u001b[A\u001b[A\n",
      "\n",
      "\n",
      "\n",
      "\n",
      "Generated length size: 100%|██████████| 4/4 [00:39<00:00,  9.99s/it]\n",
      "\n",
      "\n",
      "\n",
      "\n",
      "\u001b[A\u001b[A\u001b[A\u001b[A\n",
      "\n",
      "\n",
      "\n",
      "\n",
      "\u001b[A\u001b[A\u001b[A\u001b[A\u001b[A\n",
      "\n",
      "\n",
      "\n",
      "\n",
      "\u001b[A\u001b[A\u001b[A\u001b[A\u001b[A\n",
      "\n",
      "\n",
      "\n",
      "\n",
      "\u001b[A\u001b[A\u001b[A\u001b[A\u001b[A\n",
      "\n",
      "\n",
      "\n",
      "\n",
      "\u001b[A\u001b[A\u001b[A\u001b[A\u001b[A\n",
      "\n",
      "\n",
      "\n",
      "\n",
      "Generated length size: 100%|██████████| 4/4 [00:12<00:00,  3.24s/it]\n",
      "\n",
      "\n",
      "\n",
      "\n",
      "\u001b[A\u001b[A\u001b[A\u001b[A\n",
      "\n",
      "\n",
      "\n",
      "\n",
      "llm_pretraineds:   0%|          | 0/8 [08:44<?, ?it/s]\n",
      "GPT2 SIZE:   0%|          | 0/8 [01:58<?, ?it/s]\n",
      "Generated length size:  50%|█████     | 2/4 [01:58<01:58, 59.39s/it]\n",
      "\n",
      "\n",
      "\n",
      "\n",
      "\n",
      "\u001b[A\u001b[A\u001b[A\u001b[A\u001b[A\n",
      "\n",
      "\n",
      "\n",
      "\n",
      "\u001b[A\u001b[A\u001b[A\u001b[A\u001b[A\n",
      "\n",
      "\n",
      "\n",
      "\n",
      "\u001b[A\u001b[A\u001b[A\u001b[A\u001b[A\n",
      "\n",
      "\n",
      "\n",
      "\n",
      "Generated length size: 100%|██████████| 4/4 [00:48<00:00, 12.16s/it]\n",
      "\n",
      "\n",
      "\n",
      "\n",
      "Generated length size: 100%|██████████| 4/4 [00:06<00:00,  1.70s/it]\n",
      "\n",
      "\n",
      "\n",
      "\n",
      "Generated length size: 100%|██████████| 4/4 [00:07<00:00,  1.94s/it]\n",
      "\n",
      "\n",
      "\n",
      "\n",
      "llm_pretraineds: 100%|██████████| 8/8 [02:35<00:00, 19.43s/it]\n"
     ]
    },
    {
     "data": {
      "text/plain": [
       "{'distilgpt2': [0.039441585540771484,\n",
       "  0.1317586898803711,\n",
       "  0.9750914573669434,\n",
       "  2.220196008682251],\n",
       " 'gpt2': [0.047057151794433594,\n",
       "  0.2238309383392334,\n",
       "  1.4217071533203125,\n",
       "  3.225576162338257],\n",
       " 'gpt2-medium': [0.12324690818786621,\n",
       "  0.6531651020050049,\n",
       "  3.8550896644592285,\n",
       "  9.520621061325073],\n",
       " 'gpt2-large': [0.2868008613586426,\n",
       "  1.2216246128082275,\n",
       "  8.507774829864502,\n",
       "  19.31953501701355],\n",
       " 'EleutherAI/gpt-neo-125M': [0.5275752544403076,\n",
       "  0.24811744689941406,\n",
       "  1.3794124126434326,\n",
       "  3.448385000228882],\n",
       " 'EleutherAI/gpt-neo-1.3B': [4.933258533477783,\n",
       "  1.733971118927002,\n",
       "  12.872544288635254,\n",
       "  24.03103280067444],\n",
       " 'google/flan-t5-small': [0.34525203704833984,\n",
       "  0.15761542320251465,\n",
       "  0.34002232551574707,\n",
       "  0.846975564956665],\n",
       " 'google/flan-t5-base': [1.0000483989715576,\n",
       "  0.6359002590179443,\n",
       "  0.6769366264343262,\n",
       "  0.3310704231262207]}"
      ]
     },
     "execution_count": 44,
     "metadata": {},
     "output_type": "execute_result"
    }
   ],
   "source": [
    "text_size = [5, 10, 50, 100]\n",
    "prompt = \"Once upon a time\"\n",
    "print(\"Begin\")\n",
    "data = {\n",
    "    llm.value: [\n",
    "        time_generation(model=LLMWrapper(llm, verbose=False), prompt=prompt, text_length=length)\n",
    "        for length in tqdm(text_size, desc=\"Generated length size\")\n",
    "    ]\n",
    "    for llm in tqdm(llm_pretraineds, desc=\"llm_pretraineds\")\n",
    "}\n",
    "data"
   ]
  },
  {
   "cell_type": "code",
   "execution_count": 45,
   "metadata": {},
   "outputs": [
    {
     "data": {
      "text/html": [
       "<div>\n",
       "<style scoped>\n",
       "    .dataframe tbody tr th:only-of-type {\n",
       "        vertical-align: middle;\n",
       "    }\n",
       "\n",
       "    .dataframe tbody tr th {\n",
       "        vertical-align: top;\n",
       "    }\n",
       "\n",
       "    .dataframe thead th {\n",
       "        text-align: right;\n",
       "    }\n",
       "</style>\n",
       "<table border=\"1\" class=\"dataframe\">\n",
       "  <thead>\n",
       "    <tr style=\"text-align: right;\">\n",
       "      <th></th>\n",
       "      <th>distilgpt2</th>\n",
       "      <th>gpt2</th>\n",
       "      <th>gpt2-medium</th>\n",
       "      <th>gpt2-large</th>\n",
       "      <th>EleutherAI/gpt-neo-125M</th>\n",
       "      <th>EleutherAI/gpt-neo-1.3B</th>\n",
       "      <th>google/flan-t5-small</th>\n",
       "      <th>google/flan-t5-base</th>\n",
       "    </tr>\n",
       "  </thead>\n",
       "  <tbody>\n",
       "    <tr>\n",
       "      <th>5</th>\n",
       "      <td>0.039442</td>\n",
       "      <td>0.047057</td>\n",
       "      <td>0.123247</td>\n",
       "      <td>0.286801</td>\n",
       "      <td>0.527575</td>\n",
       "      <td>4.933259</td>\n",
       "      <td>0.345252</td>\n",
       "      <td>1.000048</td>\n",
       "    </tr>\n",
       "    <tr>\n",
       "      <th>10</th>\n",
       "      <td>0.131759</td>\n",
       "      <td>0.223831</td>\n",
       "      <td>0.653165</td>\n",
       "      <td>1.221625</td>\n",
       "      <td>0.248117</td>\n",
       "      <td>1.733971</td>\n",
       "      <td>0.157615</td>\n",
       "      <td>0.635900</td>\n",
       "    </tr>\n",
       "    <tr>\n",
       "      <th>50</th>\n",
       "      <td>0.975091</td>\n",
       "      <td>1.421707</td>\n",
       "      <td>3.855090</td>\n",
       "      <td>8.507775</td>\n",
       "      <td>1.379412</td>\n",
       "      <td>12.872544</td>\n",
       "      <td>0.340022</td>\n",
       "      <td>0.676937</td>\n",
       "    </tr>\n",
       "    <tr>\n",
       "      <th>100</th>\n",
       "      <td>2.220196</td>\n",
       "      <td>3.225576</td>\n",
       "      <td>9.520621</td>\n",
       "      <td>19.319535</td>\n",
       "      <td>3.448385</td>\n",
       "      <td>24.031033</td>\n",
       "      <td>0.846976</td>\n",
       "      <td>0.331070</td>\n",
       "    </tr>\n",
       "  </tbody>\n",
       "</table>\n",
       "</div>"
      ],
      "text/plain": [
       "     distilgpt2      gpt2  gpt2-medium  gpt2-large  EleutherAI/gpt-neo-125M  \\\n",
       "5      0.039442  0.047057     0.123247    0.286801                 0.527575   \n",
       "10     0.131759  0.223831     0.653165    1.221625                 0.248117   \n",
       "50     0.975091  1.421707     3.855090    8.507775                 1.379412   \n",
       "100    2.220196  3.225576     9.520621   19.319535                 3.448385   \n",
       "\n",
       "     EleutherAI/gpt-neo-1.3B  google/flan-t5-small  google/flan-t5-base  \n",
       "5                   4.933259              0.345252             1.000048  \n",
       "10                  1.733971              0.157615             0.635900  \n",
       "50                 12.872544              0.340022             0.676937  \n",
       "100                24.031033              0.846976             0.331070  "
      ]
     },
     "execution_count": 45,
     "metadata": {},
     "output_type": "execute_result"
    }
   ],
   "source": [
    "df = pd.DataFrame(data=data, index=text_size)\n",
    "df"
   ]
  },
  {
   "cell_type": "code",
   "execution_count": 47,
   "metadata": {},
   "outputs": [
    {
     "data": {
      "text/plain": [
       "<Axes: xlabel='Number of word generated', ylabel='Generation duraction (in seconds)'>"
      ]
     },
     "execution_count": 47,
     "metadata": {},
     "output_type": "execute_result"
    },
    {
     "data": {
      "image/png": "[encoded data removed]",
      "text/plain": [
       "<Figure size 640x480 with 1 Axes>"
      ]
     },
     "metadata": {},
     "output_type": "display_data"
    }
   ],
   "source": [
    "df.plot(\n",
    "    kind=\"line\",\n",
    "    xlabel=\"Number of word generated\",\n",
    "    ylabel=\"Generation duraction (in seconds)\",\n",
    ")"
   ]
  },
  {
   "cell_type": "markdown",
   "metadata": {},
   "source": [
    "### Eval number of parameters"
   ]
  },
  {
   "cell_type": "code",
   "execution_count": 12,
   "metadata": {},
   "outputs": [
    {
     "name": "stderr",
     "output_type": "stream",
     "text": [
      "100%|██████████| 8/8 [00:16<00:00,  2.05s/it]\n"
     ]
    },
    {
     "data": {
      "text/plain": [
       "{'Nb parameters': [81912576,\n",
       "  124439808,\n",
       "  354823168,\n",
       "  774030080,\n",
       "  125198592,\n",
       "  1315575808,\n",
       "  76961152,\n",
       "  247577856],\n",
       " 'Model': ['distilgpt2',\n",
       "  'gpt2',\n",
       "  'gpt2-medium',\n",
       "  'gpt2-large',\n",
       "  'EleutherAI/gpt-neo-125M',\n",
       "  'EleutherAI/gpt-neo-1.3B',\n",
       "  'google/flan-t5-small',\n",
       "  'google/flan-t5-base']}"
      ]
     },
     "execution_count": 12,
     "metadata": {},
     "output_type": "execute_result"
    }
   ],
   "source": [
    "data_nb_par = {\n",
    "    \"Nb parameters\": [LLMWrapper(llm, verbose=False).nb_parameters for llm in tqdm(llm_pretraineds)],\n",
    "    \"Model\" : [llm.value for llm in llm_pretraineds]\n",
    "}\n",
    "data_nb_par"
   ]
  },
  {
   "cell_type": "code",
   "execution_count": 13,
   "metadata": {},
   "outputs": [
    {
     "data": {
      "text/html": [
       "<div>\n",
       "<style scoped>\n",
       "    .dataframe tbody tr th:only-of-type {\n",
       "        vertical-align: middle;\n",
       "    }\n",
       "\n",
       "    .dataframe tbody tr th {\n",
       "        vertical-align: top;\n",
       "    }\n",
       "\n",
       "    .dataframe thead th {\n",
       "        text-align: right;\n",
       "    }\n",
       "</style>\n",
       "<table border=\"1\" class=\"dataframe\">\n",
       "  <thead>\n",
       "    <tr style=\"text-align: right;\">\n",
       "      <th></th>\n",
       "      <th>Nb parameters</th>\n",
       "      <th>Model</th>\n",
       "    </tr>\n",
       "  </thead>\n",
       "  <tbody>\n",
       "    <tr>\n",
       "      <th>0</th>\n",
       "      <td>81912576</td>\n",
       "      <td>distilgpt2</td>\n",
       "    </tr>\n",
       "    <tr>\n",
       "      <th>1</th>\n",
       "      <td>124439808</td>\n",
       "      <td>gpt2</td>\n",
       "    </tr>\n",
       "    <tr>\n",
       "      <th>2</th>\n",
       "      <td>354823168</td>\n",
       "      <td>gpt2-medium</td>\n",
       "    </tr>\n",
       "    <tr>\n",
       "      <th>3</th>\n",
       "      <td>774030080</td>\n",
       "      <td>gpt2-large</td>\n",
       "    </tr>\n",
       "    <tr>\n",
       "      <th>4</th>\n",
       "      <td>125198592</td>\n",
       "      <td>EleutherAI/gpt-neo-125M</td>\n",
       "    </tr>\n",
       "    <tr>\n",
       "      <th>5</th>\n",
       "      <td>1315575808</td>\n",
       "      <td>EleutherAI/gpt-neo-1.3B</td>\n",
       "    </tr>\n",
       "    <tr>\n",
       "      <th>6</th>\n",
       "      <td>76961152</td>\n",
       "      <td>google/flan-t5-small</td>\n",
       "    </tr>\n",
       "    <tr>\n",
       "      <th>7</th>\n",
       "      <td>247577856</td>\n",
       "      <td>google/flan-t5-base</td>\n",
       "    </tr>\n",
       "  </tbody>\n",
       "</table>\n",
       "</div>"
      ],
      "text/plain": [
       "   Nb parameters                    Model\n",
       "0       81912576               distilgpt2\n",
       "1      124439808                     gpt2\n",
       "2      354823168              gpt2-medium\n",
       "3      774030080               gpt2-large\n",
       "4      125198592  EleutherAI/gpt-neo-125M\n",
       "5     1315575808  EleutherAI/gpt-neo-1.3B\n",
       "6       76961152     google/flan-t5-small\n",
       "7      247577856      google/flan-t5-base"
      ]
     },
     "execution_count": 13,
     "metadata": {},
     "output_type": "execute_result"
    }
   ],
   "source": [
    "df_nb_par = pd.DataFrame(data=data_nb_par)\n",
    "df_nb_par"
   ]
  },
  {
   "cell_type": "code",
   "execution_count": 14,
   "metadata": {},
   "outputs": [
    {
     "data": {
      "text/plain": [
       "<Axes: xlabel='Nb parameters', ylabel='Model'>"
      ]
     },
     "execution_count": 14,
     "metadata": {},
     "output_type": "execute_result"
    },
    {
     "data": {
      "image/png": "[encoded data removed]",
      "text/plain": [
       "<Figure size 640x480 with 1 Axes>"
      ]
     },
     "metadata": {},
     "output_type": "display_data"
    }
   ],
   "source": [
    "sns.barplot(\n",
    "    y=\"Model\",\n",
    "    x=\"Nb parameters\",\n",
    "    data=df_nb_par,\n",
    "    orient=\"h\",\n",
    ")"
   ]
  },
  {
   "cell_type": "markdown",
   "metadata": {},
   "source": [
    "### Eval perplexity"
   ]
  },
  {
   "cell_type": "code",
   "execution_count": 15,
   "metadata": {},
   "outputs": [
    {
     "name": "stdout",
     "output_type": "stream",
     "text": [
      "Dataset({\n",
      "    features: ['text'],\n",
      "    num_rows: 4358\n",
      "})\n",
      "Dataset({\n",
      "    features: ['text'],\n",
      "    num_rows: 100\n",
      "})\n"
     ]
    }
   ],
   "source": [
    "test_data = load_dataset(\"wikitext\", \"wikitext-2-raw-v1\", split=\"test\")\n",
    "small_test_data = test_data.select(range(100))  # Select the first 100 entries\n",
    "print(test_data)\n",
    "print(small_test_data)"
   ]
  },
  {
   "cell_type": "code",
   "execution_count": 39,
   "metadata": {},
   "outputs": [
    {
     "name": "stderr",
     "output_type": "stream",
     "text": [
      "\n",
      "\n",
      "\u001b[A\u001b[A\n",
      "\n",
      "\n",
      "\u001b[A\u001b[A\u001b[A\n",
      "\n",
      "\n",
      "\u001b[A\u001b[A\u001b[A\n",
      "\n",
      "\n",
      "\u001b[A\u001b[A\u001b[A\n",
      "\n",
      "\n",
      "\u001b[A\u001b[A\u001b[A\n",
      "\n",
      "\n",
      "\u001b[A\u001b[A\u001b[A\n",
      "\n",
      "\n",
      "Compute perplexity:  83%|████████▎ | 5/6 [00:04<00:00,  1.03it/s]\n",
      "\n",
      "\n",
      "\u001b[A\u001b[A\n",
      "\n",
      "\n",
      "\u001b[A\u001b[A\u001b[A\n",
      "\n",
      "\n",
      "\u001b[A\u001b[A\u001b[A\n",
      "\n",
      "\n",
      "\u001b[A\u001b[A\u001b[A\n",
      "\n",
      "\n",
      "\u001b[A\u001b[A\u001b[A\n",
      "\n",
      "\n",
      "\u001b[A\u001b[A\u001b[A\n",
      "\n",
      "\n",
      "Compute perplexity:  83%|████████▎ | 5/6 [00:10<00:02,  2.19s/it]\n",
      "\n",
      "\n",
      "\u001b[A\u001b[A\n",
      "\n",
      "\n",
      "\u001b[A\u001b[A\u001b[A\n",
      "\n",
      "\n",
      "\u001b[A\u001b[A\u001b[A\n",
      "\n",
      "\n",
      "\u001b[A\u001b[A\u001b[A\n",
      "\n",
      "\n",
      "\u001b[A\u001b[A\u001b[A\n",
      "\n",
      "\n",
      "\u001b[A\u001b[A\u001b[A\n",
      "\n",
      "\n",
      "Compute perplexity:  83%|████████▎ | 5/6 [00:31<00:06,  6.24s/it]\n",
      "\n",
      "\n",
      "\u001b[A\u001b[A\n",
      "\n",
      "\n",
      "\u001b[A\u001b[A\u001b[A\n",
      "\n",
      "\n",
      "\u001b[A\u001b[A\u001b[A\n",
      "\n",
      "\n",
      "\u001b[A\u001b[A\u001b[A\n",
      "\n",
      "\n",
      "\u001b[A\u001b[A\u001b[A\n",
      "\n",
      "\n",
      "\u001b[A\u001b[A\u001b[A\n",
      "\n",
      "\n",
      "Compute perplexity:  83%|████████▎ | 5/6 [01:02<00:12, 12.46s/it]\n",
      "\n",
      "\n",
      "\u001b[A\u001b[A\n",
      "\n",
      "\n",
      "\u001b[A\u001b[A\u001b[A\n",
      "\n",
      "\n",
      "\u001b[A\u001b[A\u001b[A\n",
      "\n",
      "\n",
      "Compute perplexity:  67%|██████▋   | 2/3 [00:17<00:08,  8.83s/it]\n",
      "\n",
      "\n",
      "\u001b[A\u001b[A\n",
      "\n",
      "\n",
      "\u001b[A\u001b[A\u001b[A\n",
      "\n",
      "\n",
      "\u001b[A\u001b[A\u001b[A\n",
      "\n",
      "\n",
      "Compute perplexity:  67%|██████▋   | 2/3 [02:01<01:00, 60.75s/it]\n",
      "\n",
      "\n",
      "GPT2 sizes:  50%|█████     | 4/8 [18:26<18:26, 276.60s/it]\n",
      "GPT2 sizes:   0%|          | 0/8 [18:35<?, ?it/s]\n",
      "Compute perplexity:  92%|█████████▏| 12/13 [00:08<00:00,  1.44it/s]\n",
      "\n",
      "\n",
      "Compute perplexity:  92%|█████████▏| 12/13 [00:23<00:01,  1.96s/it]\n",
      "\n",
      "\n",
      "llm_pretraineds: 100%|██████████| 8/8 [04:57<00:00, 37.22s/it]\n"
     ]
    },
    {
     "data": {
      "text/plain": [
       "{'Perplexity': [47.86258316040039,\n",
       "  32.937129974365234,\n",
       "  24.510807037353516,\n",
       "  22.85206413269043,\n",
       "  26.925771713256836,\n",
       "  14.9249906539917,\n",
       "  1.2489715814590454,\n",
       "  1.2978955507278442],\n",
       " 'Model': ['distilgpt2',\n",
       "  'gpt2',\n",
       "  'gpt2-medium',\n",
       "  'gpt2-large',\n",
       "  'EleutherAI/gpt-neo-125M',\n",
       "  'EleutherAI/gpt-neo-1.3B',\n",
       "  'google/flan-t5-small',\n",
       "  'google/flan-t5-base']}"
      ]
     },
     "execution_count": 39,
     "metadata": {},
     "output_type": "execute_result"
    }
   ],
   "source": [
    "ppls = [\n",
    "    eval_perplexity(\n",
    "        tokenizer=model.tokenizer,\n",
    "        model=model.model,\n",
    "        text_input=small_test_data[\"text\"],\n",
    "        max_context_length=model.get_max_context_length(),\n",
    "        verbose=False,\n",
    "    )\n",
    "    for llm in tqdm(llm_pretraineds, desc=\"llm_pretraineds\")\n",
    "    if (model := LLMWrapper(llm_pretrained=llm, verbose=False))\n",
    "]\n",
    "data_ppl = {\n",
    "    \"Perplexity\": ppls,\n",
    "    \"Model\": [gpt2_size.value for gpt2_size in llm_pretraineds],\n",
    "}\n",
    "data_ppl"
   ]
  },
  {
   "cell_type": "code",
   "execution_count": 40,
   "metadata": {},
   "outputs": [
    {
     "data": {
      "text/html": [
       "<div>\n",
       "<style scoped>\n",
       "    .dataframe tbody tr th:only-of-type {\n",
       "        vertical-align: middle;\n",
       "    }\n",
       "\n",
       "    .dataframe tbody tr th {\n",
       "        vertical-align: top;\n",
       "    }\n",
       "\n",
       "    .dataframe thead th {\n",
       "        text-align: right;\n",
       "    }\n",
       "</style>\n",
       "<table border=\"1\" class=\"dataframe\">\n",
       "  <thead>\n",
       "    <tr style=\"text-align: right;\">\n",
       "      <th></th>\n",
       "      <th>Perplexity</th>\n",
       "      <th>Model</th>\n",
       "    </tr>\n",
       "  </thead>\n",
       "  <tbody>\n",
       "    <tr>\n",
       "      <th>0</th>\n",
       "      <td>47.862583</td>\n",
       "      <td>distilgpt2</td>\n",
       "    </tr>\n",
       "    <tr>\n",
       "      <th>1</th>\n",
       "      <td>32.937130</td>\n",
       "      <td>gpt2</td>\n",
       "    </tr>\n",
       "    <tr>\n",
       "      <th>2</th>\n",
       "      <td>24.510807</td>\n",
       "      <td>gpt2-medium</td>\n",
       "    </tr>\n",
       "    <tr>\n",
       "      <th>3</th>\n",
       "      <td>22.852064</td>\n",
       "      <td>gpt2-large</td>\n",
       "    </tr>\n",
       "    <tr>\n",
       "      <th>4</th>\n",
       "      <td>26.925772</td>\n",
       "      <td>EleutherAI/gpt-neo-125M</td>\n",
       "    </tr>\n",
       "    <tr>\n",
       "      <th>5</th>\n",
       "      <td>14.924991</td>\n",
       "      <td>EleutherAI/gpt-neo-1.3B</td>\n",
       "    </tr>\n",
       "    <tr>\n",
       "      <th>6</th>\n",
       "      <td>1.248972</td>\n",
       "      <td>google/flan-t5-small</td>\n",
       "    </tr>\n",
       "    <tr>\n",
       "      <th>7</th>\n",
       "      <td>1.297896</td>\n",
       "      <td>google/flan-t5-base</td>\n",
       "    </tr>\n",
       "  </tbody>\n",
       "</table>\n",
       "</div>"
      ],
      "text/plain": [
       "   Perplexity                    Model\n",
       "0   47.862583               distilgpt2\n",
       "1   32.937130                     gpt2\n",
       "2   24.510807              gpt2-medium\n",
       "3   22.852064               gpt2-large\n",
       "4   26.925772  EleutherAI/gpt-neo-125M\n",
       "5   14.924991  EleutherAI/gpt-neo-1.3B\n",
       "6    1.248972     google/flan-t5-small\n",
       "7    1.297896      google/flan-t5-base"
      ]
     },
     "execution_count": 40,
     "metadata": {},
     "output_type": "execute_result"
    }
   ],
   "source": [
    "df_ppl = pd.DataFrame(data=data_ppl)\n",
    "df_ppl"
   ]
  },
  {
   "cell_type": "code",
   "execution_count": 41,
   "metadata": {},
   "outputs": [
    {
     "data": {
      "text/plain": [
       "<Axes: xlabel='Perplexity', ylabel='Model'>"
      ]
     },
     "execution_count": 41,
     "metadata": {},
     "output_type": "execute_result"
    },
    {
     "data": {
      "image/png": "[encoded data removed]",
      "text/plain": [
       "<Figure size 640x480 with 1 Axes>"
      ]
     },
     "metadata": {},
     "output_type": "display_data"
    }
   ],
   "source": [
    "sns.barplot(\n",
    "    y=\"Model\",\n",
    "    x=\"Perplexity\",\n",
    "    data=df_ppl,\n",
    "    orient=\"h\",\n",
    ")"
   ]
  }
 ],
 "metadata": {
  "kernelspec": {
   "display_name": ".venv",
   "language": "python",
   "name": "python3"
  },
  "language_info": {
   "codemirror_mode": {
    "name": "ipython",
    "version": 3
   },
   "file_extension": ".py",
   "mimetype": "text/x-python",
   "name": "python",
   "nbconvert_exporter": "python",
   "pygments_lexer": "ipython3",
   "version": "3.10.14"
  }
 },
 "nbformat": 4,
 "nbformat_minor": 2
}
